{
 "cells": [
  {
   "cell_type": "markdown",
   "id": "cefc6404-d629-47e5-b8a5-b06c29c374b6",
   "metadata": {},
   "source": [
    "# Nate Warner: Project Proposal"
   ]
  },
  {
   "cell_type": "markdown",
   "id": "3641316b-2b1c-47bf-a98e-809ebf69cf8c",
   "metadata": {},
   "source": [
    "#### AccurateArithmetic.jl: Kahan's summation algorithm for compensated summations and more"
   ]
  },
  {
   "cell_type": "markdown",
   "id": "19470b0c-9ca0-4b1a-8e86-45f4641b1bb5",
   "metadata": {},
   "source": [
    "Provide:\n",
    "\n",
    "    1. an explanation of why you chose this package;\n",
    "    2. a simple code example showing how the package works;\n",
    "    3. a description of what you plan to present."
   ]
  },
  {
   "cell_type": "markdown",
   "id": "b4aa47ad-433a-486d-afb4-8ff3a78c2b1a",
   "metadata": {},
   "source": [
    "1. Browsing online for interesting Julia packages I came across AccurateArithmetic.jl, which implements Kahan's summation algorithm. Consider a sum of reals\n",
    "    $$ S_n = \\sum_{i=0}^{n}a_{i}$$\n",
    "   for $a_i \\in \\mathbb{R}$. The naive approach to implement an algorithm that computes this sum could be extremely imprecise due to things like rounding error, cancellation error, and error in $x+y$ when $x>>y$. Kahan's algorithm reduces the errors that would normally accumlate in the naive approach.\n",
    "\n",
    "   The github page for the package states \"AccurateArithmetic.jl provides a set of error-free transforms (EFTs), which allow getting not only the rounded result of a floating-point computation, but also the accompanying rounding erro. EFTs can be leveraged to build \"compensated algorithms\", which compute a result as if the basic algorithm had been run using a higher precision.\"\n",
    "\n",
    "We note that Kahan's algorithm promises $O(1)$ error growth, where the naive approach is $O(n)$. Kahan's algorithm is implemented as _sum_kbn_() in the AccurateArithmetic package."
   ]
  },
  {
   "cell_type": "markdown",
   "id": "49e5592c-8145-4123-9a80-1fb66e44dec1",
   "metadata": {},
   "source": [
    "2.) Let's first consider an example of summing many values."
   ]
  },
  {
   "cell_type": "code",
   "execution_count": 110,
   "id": "4bde40a8-93f6-4515-b53a-6f46976035c2",
   "metadata": {},
   "outputs": [
    {
     "data": {
      "text/plain": [
       "naivesum (generic function with 2 methods)"
      ]
     },
     "execution_count": 110,
     "metadata": {},
     "output_type": "execute_result"
    }
   ],
   "source": [
    "#Naive approach\n",
    "function naivesum(x, double=false)\n",
    "    sum=double ? 0.0 : Float32(0)\n",
    "    for i in eachindex(x)\n",
    "        sum+=x[i]\n",
    "    end\n",
    "    sum\n",
    "end"
   ]
  },
  {
   "cell_type": "code",
   "execution_count": 186,
   "id": "acd161c1-bfed-4232-ab07-a65c5aeb632a",
   "metadata": {},
   "outputs": [
    {
     "data": {
      "text/plain": [
       "(27.646463f0, 27.646475f0)"
      ]
     },
     "execution_count": 186,
     "metadata": {},
     "output_type": "execute_result"
    }
   ],
   "source": [
    "x = Float32[1e16^(-i) for i in 0:0.001:100]\n",
    "(naivesum(x), sum_kbn(x))"
   ]
  },
  {
   "cell_type": "markdown",
   "id": "26f43085-30ee-469e-aa00-cc9a36b01f71",
   "metadata": {},
   "source": [
    "We can check which one is more accurate by checking against the Float64 sum."
   ]
  },
  {
   "cell_type": "code",
   "execution_count": 189,
   "id": "53fad318-412a-476d-9b6b-3f13c6832c2b",
   "metadata": {},
   "outputs": [
    {
     "data": {
      "text/plain": [
       "(27.6464751629624, 27.646475162962446)"
      ]
     },
     "execution_count": 189,
     "metadata": {},
     "output_type": "execute_result"
    }
   ],
   "source": [
    "x = [1e16^(-i) for i in 0:0.001:100]\n",
    "naivesum(x), sum_kbn(x)"
   ]
  },
  {
   "cell_type": "markdown",
   "id": "ae1965f8-45bc-4cbf-8633-9890ab792d5f",
   "metadata": {},
   "source": [
    "We see that when using less precise Float32, we can get extra digits of precision by using Kahan's algorithm."
   ]
  },
  {
   "cell_type": "markdown",
   "id": "3c6dc7e5-06c3-4ed1-ac2c-d39f8df3aa29",
   "metadata": {},
   "source": [
    "Next, we consider an example using the input $\\{1e16,1,1e-16\\}$."
   ]
  },
  {
   "cell_type": "code",
   "execution_count": 190,
   "id": "76c4e15a-a76a-4b00-b2d3-b7c170342281",
   "metadata": {},
   "outputs": [
    {
     "data": {
      "text/plain": [
       "0.0"
      ]
     },
     "execution_count": 190,
     "metadata": {},
     "output_type": "execute_result"
    }
   ],
   "source": [
    "(a,b,c) = (1e16, 1,-1e16)\n",
    "a+b+c"
   ]
  },
  {
   "cell_type": "markdown",
   "id": "03ce9c4a-6f69-4884-85cf-08ae6f6fdca1",
   "metadata": {},
   "source": [
    "Since 1 is added to $10^{16}$, the information in 1 is lost due to the magnitude of $10^{16}$. Thus, subtracting $10^{16}$ from the result yields zero. Let's see if sum_kbn does any better."
   ]
  },
  {
   "cell_type": "code",
   "execution_count": 223,
   "id": "9469e03f-320d-44d9-823c-1980f1873c4e",
   "metadata": {},
   "outputs": [
    {
     "data": {
      "text/plain": [
       "1.0"
      ]
     },
     "execution_count": 223,
     "metadata": {},
     "output_type": "execute_result"
    }
   ],
   "source": [
    "x = [1e16,1,-1e16]\n",
    "sum_kbn(x)"
   ]
  },
  {
   "cell_type": "markdown",
   "id": "c07d905f-2407-421a-abd1-ced8d1a2f1df",
   "metadata": {},
   "source": [
    "And we see that it does."
   ]
  },
  {
   "cell_type": "markdown",
   "id": "7523cf33-1850-4f4d-89d2-fc3bb9ca8b76",
   "metadata": {},
   "source": [
    "I'd like to also show the example found in the package documentation."
   ]
  },
  {
   "cell_type": "code",
   "execution_count": 217,
   "id": "c5cad9bd-4798-42be-aa88-f7c5487ac04a",
   "metadata": {},
   "outputs": [
    {
     "data": {
      "text/plain": [
       "1.0"
      ]
     },
     "execution_count": 217,
     "metadata": {},
     "output_type": "execute_result"
    }
   ],
   "source": [
    "# By design, this vector sums to 1\n",
    "x = 5000 |> N->randn(N) .* exp.(10 .* randn(N)) |> x->[x;-x;1.0] |> x->x[sortperm(rand(length(x)))];\n",
    "sum(big.(x))"
   ]
  },
  {
   "cell_type": "markdown",
   "id": "8c9321d5-f48b-4ff1-9632-6f14972c0760",
   "metadata": {},
   "source": [
    "Let's what naivesum yields."
   ]
  },
  {
   "cell_type": "code",
   "execution_count": 218,
   "id": "b4652276-17b8-438e-9136-795ce7266d35",
   "metadata": {},
   "outputs": [
    {
     "data": {
      "text/plain": [
       "-11.390746881804123"
      ]
     },
     "execution_count": 218,
     "metadata": {},
     "output_type": "execute_result"
    }
   ],
   "source": [
    "naivesum(x)"
   ]
  },
  {
   "cell_type": "markdown",
   "id": "c567644f-dd5c-4c77-808b-2469e5cea68b",
   "metadata": {},
   "source": [
    "We see that the result of naivesum is very far off from the expected result of one. Next, let's see how sum_kbn does."
   ]
  },
  {
   "cell_type": "code",
   "execution_count": 222,
   "id": "d8a0f849-7694-4e50-b668-f3010c55860e",
   "metadata": {},
   "outputs": [
    {
     "data": {
      "text/plain": [
       "1.0000000000000042"
      ]
     },
     "execution_count": 222,
     "metadata": {},
     "output_type": "execute_result"
    }
   ],
   "source": [
    "sum_kbn(x)"
   ]
  },
  {
   "cell_type": "markdown",
   "id": "c828af67-a156-4500-a7ae-b3aed7afdceb",
   "metadata": {},
   "source": [
    "We see that the result is very close to the expected one."
   ]
  },
  {
   "cell_type": "markdown",
   "id": "6ba426a1-e1fe-4202-bf40-094d31469542",
   "metadata": {},
   "source": [
    "3.) In the presentation I would like to show \n",
    "\n",
    "    - The naive approach for summing reals with bounded precision,\n",
    "    - The numerical problems faced in these sums,\n",
    "    - Kahan's algorithm and how it overcomes these problems,\n",
    "    - AccurateArithmetic.jl's interface for Kahan's algorithm,\n",
    "    - Other useful functions defined in the package,\n",
    "    - Errors."
   ]
  },
  {
   "cell_type": "markdown",
   "id": "5846a00e-b633-4922-b507-1e284c3cd2fc",
   "metadata": {},
   "source": [
    "We note that AccurateArithmetic has several useful functions besides sum_kbn. If there is time I will show those as well."
   ]
  }
 ],
 "metadata": {
  "kernelspec": {
   "display_name": "Julia 1.11.3",
   "language": "julia",
   "name": "julia-1.11"
  },
  "language_info": {
   "file_extension": ".jl",
   "mimetype": "application/julia",
   "name": "julia",
   "version": "1.11.3"
  }
 },
 "nbformat": 4,
 "nbformat_minor": 5
}
